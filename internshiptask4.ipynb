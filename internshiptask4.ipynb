{
  "nbformat": 4,
  "nbformat_minor": 0,
  "metadata": {
    "colab": {
      "provenance": [],
      "authorship_tag": "ABX9TyMCBlgaexQ2f7QYGa5p7nOV",
      "include_colab_link": true
    },
    "kernelspec": {
      "name": "python3",
      "display_name": "Python 3"
    },
    "language_info": {
      "name": "python"
    }
  },
  "cells": [
    {
      "cell_type": "markdown",
      "metadata": {
        "id": "view-in-github",
        "colab_type": "text"
      },
      "source": [
        "<a href=\"https://colab.research.google.com/github/sid-0837/CodeTech-IT-Solutions-Internship-Tasks/blob/main/internshiptask4.ipynb\" target=\"_parent\"><img src=\"https://colab.research.google.com/assets/colab-badge.svg\" alt=\"Open In Colab\"/></a>"
      ]
    },
    {
      "cell_type": "code",
      "execution_count": 1,
      "metadata": {
        "colab": {
          "base_uri": "https://localhost:8080/"
        },
        "id": "7CjuqR2p22bV",
        "outputId": "c787a577-d901-4483-d76f-1f1c8b111525"
      },
      "outputs": [
        {
          "output_type": "stream",
          "name": "stdout",
          "text": [
            "Collecting pycryptodome\n",
            "  Downloading pycryptodome-3.23.0-cp37-abi3-manylinux_2_17_x86_64.manylinux2014_x86_64.whl.metadata (3.4 kB)\n",
            "Downloading pycryptodome-3.23.0-cp37-abi3-manylinux_2_17_x86_64.manylinux2014_x86_64.whl (2.3 MB)\n",
            "\u001b[?25l   \u001b[90m━━━━━━━━━━━━━━━━━━━━━━━━━━━━━━━━━━━━━━━━\u001b[0m \u001b[32m0.0/2.3 MB\u001b[0m \u001b[31m?\u001b[0m eta \u001b[36m-:--:--\u001b[0m\r\u001b[2K   \u001b[91m━━━━━━━━━━━━━━━━━━━━━━\u001b[0m\u001b[91m╸\u001b[0m\u001b[90m━━━━━━━━━━━━━━━━━\u001b[0m \u001b[32m1.3/2.3 MB\u001b[0m \u001b[31m41.3 MB/s\u001b[0m eta \u001b[36m0:00:01\u001b[0m\r\u001b[2K   \u001b[91m━━━━━━━━━━━━━━━━━━━━━━━━━━━━━━━━━━━━━━━\u001b[0m\u001b[91m╸\u001b[0m \u001b[32m2.3/2.3 MB\u001b[0m \u001b[31m26.1 MB/s\u001b[0m eta \u001b[36m0:00:01\u001b[0m\r\u001b[2K   \u001b[90m━━━━━━━━━━━━━━━━━━━━━━━━━━━━━━━━━━━━━━━━\u001b[0m \u001b[32m2.3/2.3 MB\u001b[0m \u001b[31m18.9 MB/s\u001b[0m eta \u001b[36m0:00:00\u001b[0m\n",
            "\u001b[?25hInstalling collected packages: pycryptodome\n",
            "Successfully installed pycryptodome-3.23.0\n"
          ]
        }
      ],
      "source": [
        "pip install pycryptodome\n"
      ]
    },
    {
      "cell_type": "code",
      "source": [
        "from Crypto.Cipher import AES\n",
        "from Crypto.Protocol.KDF import PBKDF2\n",
        "from Crypto.Random import get_random_bytes\n",
        "import os\n",
        "\n",
        "def generate_key(password, salt):\n",
        "    return PBKDF2(password, salt, dkLen=32, count=1000000)\n",
        "\n",
        "def encrypt_file(file_path, password):\n",
        "    salt = get_random_bytes(16)\n",
        "    key = generate_key(password, salt)\n",
        "    cipher = AES.new(key, AES.MODE_GCM)\n",
        "    with open(file_path, 'rb') as f:\n",
        "        data = f.read()\n",
        "    ciphertext, tag = cipher.encrypt_and_digest(data)\n",
        "\n",
        "    with open(file_path + '.enc', 'wb') as f:\n",
        "        f.write(salt + cipher.nonce + tag + ciphertext)\n",
        "    return file_path + '.enc'\n",
        "\n",
        "def decrypt_file(file_path, password):\n",
        "    with open(file_path, 'rb') as f:\n",
        "        content = f.read()\n",
        "    salt = content[:16]\n",
        "    nonce = content[16:32]\n",
        "    tag = content[32:48]\n",
        "    ciphertext = content[48:]\n",
        "    key = generate_key(password, salt)\n",
        "    cipher = AES.new(key, AES.MODE_GCM, nonce)\n",
        "    data = cipher.decrypt_and_verify(ciphertext, tag)\n",
        "\n",
        "    output_path = file_path.replace('.enc', '.dec')\n",
        "    with open(output_path, 'wb') as f:\n",
        "        f.write(data)\n",
        "    return output_path\n"
      ],
      "metadata": {
        "id": "yY4DC2s-4ahK"
      },
      "execution_count": 2,
      "outputs": []
    },
    {
      "cell_type": "code",
      "source": [],
      "metadata": {
        "id": "raNsiC225ZrN"
      },
      "execution_count": null,
      "outputs": []
    },
    {
      "cell_type": "markdown",
      "metadata": {
        "id": "9ddfbae3"
      },
      "source": [
        "Since we cannot run the GUI in Colab, let's demonstrate how to use the `encrypt_file` and `decrypt_file` functions directly.\n",
        "\n",
        "First, let's create a dummy file to encrypt."
      ]
    },
    {
      "cell_type": "code",
      "metadata": {
        "colab": {
          "base_uri": "https://localhost:8080/"
        },
        "id": "e30f61dd",
        "outputId": "276c4430-cb7e-4b63-fe14-eacfc59308bf"
      },
      "source": [
        "# Create a dummy file for encryption\n",
        "file_to_encrypt = \"my_secret_document.txt\"\n",
        "with open(file_to_encrypt, \"w\") as f:\n",
        "    f.write(\"This is a secret message that needs to be encrypted!\")\n",
        "\n",
        "print(f\"Created dummy file: {file_to_encrypt}\")"
      ],
      "execution_count": 5,
      "outputs": [
        {
          "output_type": "stream",
          "name": "stdout",
          "text": [
            "Created dummy file: my_secret_document.txt\n"
          ]
        }
      ]
    },
    {
      "cell_type": "markdown",
      "metadata": {
        "id": "8cf4f2f2"
      },
      "source": [
        "Now, let's encrypt the dummy file using a password."
      ]
    },
    {
      "cell_type": "code",
      "metadata": {
        "colab": {
          "base_uri": "https://localhost:8080/"
        },
        "id": "ea0cdaf6",
        "outputId": "2da8f803-4675-4a20-ec52-b4f1cb385d99"
      },
      "source": [
        "# Encrypt the file\n",
        "password_for_encryption = \"my_super_secret_password\"\n",
        "encrypted_file = encrypt_file(file_to_encrypt, password_for_encryption)\n",
        "\n",
        "print(f\"Encrypted file created: {encrypted_file}\")"
      ],
      "execution_count": 6,
      "outputs": [
        {
          "output_type": "stream",
          "name": "stdout",
          "text": [
            "Encrypted file created: my_secret_document.txt.enc\n"
          ]
        }
      ]
    },
    {
      "cell_type": "markdown",
      "metadata": {
        "id": "f4602894"
      },
      "source": [
        "Finally, let's decrypt the encrypted file using the same password."
      ]
    },
    {
      "cell_type": "code",
      "metadata": {
        "colab": {
          "base_uri": "https://localhost:8080/"
        },
        "id": "2fd2cbfe",
        "outputId": "b2662e58-efa8-402a-d840-11fc84e0b830"
      },
      "source": [
        "# Decrypt the file\n",
        "decrypted_file = decrypt_file(encrypted_file, password_for_encryption)\n",
        "\n",
        "print(f\"Decrypted file created: {decrypted_file}\")\n",
        "\n",
        "# Verify the content of the decrypted file\n",
        "with open(decrypted_file, \"r\") as f:\n",
        "    decrypted_content = f.read()\n",
        "\n",
        "print(f\"Content of decrypted file:\\n{decrypted_content}\")"
      ],
      "execution_count": 7,
      "outputs": [
        {
          "output_type": "stream",
          "name": "stdout",
          "text": [
            "Decrypted file created: my_secret_document.txt.dec\n",
            "Content of decrypted file:\n",
            "This is a secret message that needs to be encrypted!\n"
          ]
        }
      ]
    },
    {
      "cell_type": "code",
      "source": [],
      "metadata": {
        "id": "T3P8tS405crD"
      },
      "execution_count": null,
      "outputs": []
    }
  ]
}