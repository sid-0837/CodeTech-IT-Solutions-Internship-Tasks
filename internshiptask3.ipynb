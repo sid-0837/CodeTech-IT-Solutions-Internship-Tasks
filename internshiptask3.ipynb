{
  "nbformat": 4,
  "nbformat_minor": 0,
  "metadata": {
    "colab": {
      "provenance": [],
      "authorship_tag": "ABX9TyObDLGUFcmLjOQd33FquRxn",
      "include_colab_link": true
    },
    "kernelspec": {
      "name": "python3",
      "display_name": "Python 3"
    },
    "language_info": {
      "name": "python"
    }
  },
  "cells": [
    {
      "cell_type": "markdown",
      "metadata": {
        "id": "view-in-github",
        "colab_type": "text"
      },
      "source": [
        "<a href=\"https://colab.research.google.com/github/sid-0837/CodeTech-IT-Solutions-Internship-Tasks/blob/main/internshiptask3.ipynb\" target=\"_parent\"><img src=\"https://colab.research.google.com/assets/colab-badge.svg\" alt=\"Open In Colab\"/></a>"
      ]
    },
    {
      "cell_type": "code",
      "execution_count": 1,
      "metadata": {
        "id": "84P6VEAC0VSK"
      },
      "outputs": [],
      "source": [
        "import socket\n",
        "\n",
        "def scan_ports(target, ports=[21, 22, 23, 25, 53, 80, 443, 8080]):\n",
        "    print(f\"Scanning {target} for open ports...\")\n",
        "    for port in ports:\n",
        "        sock = socket.socket(socket.AF_INET, socket.SOCK_STREAM)\n",
        "        sock.settimeout(0.5)\n",
        "        result = sock.connect_ex((target, port))\n",
        "        if result == 0:\n",
        "            print(f\"[+] Port {port} is OPEN\")\n",
        "        sock.close()\n"
      ]
    },
    {
      "cell_type": "code",
      "source": [
        "import requests\n",
        "from requests.auth import HTTPBasicAuth\n",
        "\n",
        "def brute_force(url, username, wordlist_path):\n",
        "    print(f\"Brute forcing {url} with username: {username}\")\n",
        "    with open(wordlist_path, \"r\") as file:\n",
        "        for password in file:\n",
        "            password = password.strip()\n",
        "            response = requests.get(url, auth=HTTPBasicAuth(username, password))\n",
        "            if response.status_code == 200:\n",
        "                print(f\"[+] Password found: {password}\")\n",
        "                return password\n",
        "    print(\"[-] Password not found.\")\n",
        "    return None\n"
      ],
      "metadata": {
        "id": "P2KT2xFh0gtR"
      },
      "execution_count": 2,
      "outputs": []
    },
    {
      "cell_type": "code",
      "source": [
        "import socket\n",
        "\n",
        "def get_info(target):\n",
        "    try:\n",
        "        ip = socket.gethostbyname(target)\n",
        "        print(f\"[i] IP Address of {target}: {ip}\")\n",
        "        print(f\"[i] Hostname: {socket.getfqdn(target)}\")\n",
        "    except socket.gaierror:\n",
        "        print(\"[-] Failed to resolve host.\")\n"
      ],
      "metadata": {
        "id": "q_eorjjP0mNg"
      },
      "execution_count": 3,
      "outputs": []
    },
    {
      "cell_type": "code",
      "source": [
        "# from port_scanner import scan_ports\n",
        "# from brute_forcer import brute_force\n",
        "# from info_gatherer import get_info\n",
        "\n",
        "def main():\n",
        "    print(\"\\n🔐 PENETRATION TESTING TOOLKIT\")\n",
        "    print(\"1. Port Scanner\")\n",
        "    print(\"2. Brute Forcer (HTTP Basic Auth)\")\n",
        "    print(\"3. Info Gatherer\")\n",
        "    choice = input(\"Enter your choice: \")\n",
        "\n",
        "    if choice == \"1\":\n",
        "        target = input(\"Enter target IP or domain: \")\n",
        "        scan_ports(target)\n",
        "    elif choice == \"2\":\n",
        "        url = input(\"Enter the protected URL (e.g., http://example.com/admin): \")\n",
        "        username = input(\"Enter username: \")\n",
        "        wordlist = input(\"Enter path to wordlist (e.g., wordlist.txt): \")\n",
        "        brute_force(url, username, wordlist)\n",
        "    elif choice == \"3\":\n",
        "        target = input(\"Enter domain or IP: \")\n",
        "        get_info(target)\n",
        "    else:\n",
        "        print(\"Invalid choice.\")\n",
        "\n",
        "if __name__ == \"__main__\":\n",
        "    main()"
      ],
      "metadata": {
        "colab": {
          "base_uri": "https://localhost:8080/"
        },
        "id": "dEPZcaTq0rpf",
        "outputId": "48d152e8-d623-4a4e-eeb2-cfec2b6c7d96"
      },
      "execution_count": 6,
      "outputs": [
        {
          "output_type": "stream",
          "name": "stdout",
          "text": [
            "\n",
            "🔐 PENETRATION TESTING TOOLKIT\n",
            "1. Port Scanner\n",
            "2. Brute Forcer (HTTP Basic Auth)\n",
            "3. Info Gatherer\n",
            "Enter your choice: 1\n",
            "Enter target IP or domain: 142.250.189.164\n",
            "Scanning 142.250.189.164 for open ports...\n",
            "[+] Port 80 is OPEN\n",
            "[+] Port 443 is OPEN\n"
          ]
        }
      ]
    },
    {
      "cell_type": "code",
      "source": [],
      "metadata": {
        "id": "D5pwJeST1SsK"
      },
      "execution_count": null,
      "outputs": []
    }
  ]
}