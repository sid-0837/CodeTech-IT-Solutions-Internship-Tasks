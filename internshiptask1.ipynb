{
  "nbformat": 4,
  "nbformat_minor": 0,
  "metadata": {
    "colab": {
      "provenance": [],
      "authorship_tag": "ABX9TyOXcxO/Lk/1fbgR1L6yWL63",
      "include_colab_link": true
    },
    "kernelspec": {
      "name": "python3",
      "display_name": "Python 3"
    },
    "language_info": {
      "name": "python"
    }
  },
  "cells": [
    {
      "cell_type": "markdown",
      "metadata": {
        "id": "view-in-github",
        "colab_type": "text"
      },
      "source": [
        "<a href=\"https://colab.research.google.com/github/sid-0837/CodeTech-IT-Solutions-Internship-Tasks/blob/main/internshiptask1.ipynb\" target=\"_parent\"><img src=\"https://colab.research.google.com/assets/colab-badge.svg\" alt=\"Open In Colab\"/></a>"
      ]
    },
    {
      "cell_type": "code",
      "execution_count": null,
      "metadata": {
        "colab": {
          "base_uri": "https://localhost:8080/"
        },
        "id": "wBhKaV546p2u",
        "outputId": "d30d3787-67df-4c5d-b1ba-ba29f387f798"
      },
      "outputs": [
        {
          "output_type": "stream",
          "name": "stdout",
          "text": [
            "=== File Integrity Checker ===\n"
          ]
        }
      ],
      "source": [
        "import os\n",
        "import hashlib\n",
        "import json\n",
        "\n",
        "HASH_FILE = \"hash_store.json\"\n",
        "\n",
        "def calculate_hash(file_path):\n",
        "    sha256 = hashlib.sha256()\n",
        "    try:\n",
        "        with open(file_path, \"rb\") as f:\n",
        "            while chunk := f.read(4096):\n",
        "                sha256.update(chunk)\n",
        "        return sha256.hexdigest()\n",
        "    except FileNotFoundError:\n",
        "        return None\n",
        "\n",
        "def load_hashes():\n",
        "    if os.path.exists(HASH_FILE):\n",
        "        with open(HASH_FILE, \"r\") as f:\n",
        "            return json.load(f)\n",
        "    return {}\n",
        "\n",
        "def save_hashes(hashes):\n",
        "    with open(HASH_FILE, \"w\") as f:\n",
        "        json.dump(hashes, f, indent=4)\n",
        "\n",
        "def monitor_files(files):\n",
        "    old_hashes = load_hashes()\n",
        "    new_hashes = {}\n",
        "\n",
        "    for file in files:\n",
        "        hash_val = calculate_hash(file)\n",
        "        if hash_val:\n",
        "            new_hashes[file] = hash_val\n",
        "            if file in old_hashes:\n",
        "                if old_hashes[file] != hash_val:\n",
        "                    print(f\"[!] File Modified: {file}\")\n",
        "                else:\n",
        "                    print(f\"[✓] File Unchanged: {file}\")\n",
        "            else:\n",
        "                print(f\"[+] New File Added: {file}\")\n",
        "        else:\n",
        "            print(f\"[X] File Not Found: {file}\")\n",
        "\n",
        "    save_hashes(new_hashes)\n",
        "\n",
        "if __name__ == \"__main__\":\n",
        "    print(\"=== File Integrity Checker ===\")\n",
        "    file_list = input(\"Enter files to monitor (comma-separated): \").split(',')\n",
        "    file_list = [file.strip() for file in file_list]\n",
        "    monitor_files(file_list)\n"
      ]
    }
  ]
}