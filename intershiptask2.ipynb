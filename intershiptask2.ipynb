{
  "nbformat": 4,
  "nbformat_minor": 0,
  "metadata": {
    "colab": {
      "provenance": [],
      "authorship_tag": "ABX9TyOw8KdCxI3h5LtcGC0ouDSv",
      "include_colab_link": true
    },
    "kernelspec": {
      "name": "python3",
      "display_name": "Python 3"
    },
    "language_info": {
      "name": "python"
    }
  },
  "cells": [
    {
      "cell_type": "markdown",
      "metadata": {
        "id": "view-in-github",
        "colab_type": "text"
      },
      "source": [
        "<a href=\"https://colab.research.google.com/github/sid-0837/CodeTech-IT-Solutions-Internship-Tasks/blob/main/intershiptask2.ipynb\" target=\"_parent\"><img src=\"https://colab.research.google.com/assets/colab-badge.svg\" alt=\"Open In Colab\"/></a>"
      ]
    },
    {
      "cell_type": "code",
      "execution_count": 1,
      "metadata": {
        "colab": {
          "base_uri": "https://localhost:8080/"
        },
        "id": "DZ1XqMnMwHd1",
        "outputId": "190fa6ed-462d-434e-81f8-129b80d3e223"
      },
      "outputs": [
        {
          "output_type": "stream",
          "name": "stdout",
          "text": [
            "Requirement already satisfied: requests in /usr/local/lib/python3.11/dist-packages (2.32.3)\n",
            "Requirement already satisfied: beautifulsoup4 in /usr/local/lib/python3.11/dist-packages (4.13.4)\n",
            "Requirement already satisfied: charset-normalizer<4,>=2 in /usr/local/lib/python3.11/dist-packages (from requests) (3.4.2)\n",
            "Requirement already satisfied: idna<4,>=2.5 in /usr/local/lib/python3.11/dist-packages (from requests) (3.10)\n",
            "Requirement already satisfied: urllib3<3,>=1.21.1 in /usr/local/lib/python3.11/dist-packages (from requests) (2.5.0)\n",
            "Requirement already satisfied: certifi>=2017.4.17 in /usr/local/lib/python3.11/dist-packages (from requests) (2025.7.14)\n",
            "Requirement already satisfied: soupsieve>1.2 in /usr/local/lib/python3.11/dist-packages (from beautifulsoup4) (2.7)\n",
            "Requirement already satisfied: typing-extensions>=4.0.0 in /usr/local/lib/python3.11/dist-packages (from beautifulsoup4) (4.14.1)\n"
          ]
        }
      ],
      "source": [
        "pip install requests beautifulsoup4\n"
      ]
    },
    {
      "cell_type": "code",
      "source": [
        "import requests\n",
        "from bs4 import BeautifulSoup\n",
        "from urllib.parse import urljoin\n",
        "\n",
        "# Common SQL injection payloads\n",
        "sql_payloads = [\"' OR '1'='1\", \"'; DROP TABLE users; --\", \"' OR 1=1 --\"]\n",
        "\n",
        "# Common XSS payloads\n",
        "xss_payloads = ['<script>alert(\"XSS\")</script>', '\" onmouseover=\"alert(1)\"']\n",
        "\n",
        "headers = {\n",
        "    \"User-Agent\": \"Mozilla/5.0 (VulnerabilityScanner)\"\n",
        "}\n",
        "\n",
        "def is_vulnerable_to_sql(url):\n",
        "    for payload in sql_payloads:\n",
        "        new_url = url + payload\n",
        "        response = requests.get(new_url, headers=headers)\n",
        "        if \"mysql\" in response.text.lower() or \"syntax error\" in response.text.lower():\n",
        "            return True\n",
        "    return False\n",
        "\n",
        "def is_vulnerable_to_xss(form, url):\n",
        "    for payload in xss_payloads:\n",
        "        form_details = get_form_details(form)\n",
        "        data = {}\n",
        "        for input_tag in form_details[\"inputs\"]:\n",
        "            if input_tag[\"type\"] == \"text\":\n",
        "                data[input_tag[\"name\"]] = payload\n",
        "            else:\n",
        "                data[input_tag[\"name\"]] = \"test\"\n",
        "\n",
        "        if form_details[\"method\"] == \"post\":\n",
        "            res = requests.post(form_details[\"action\"], data=data, headers=headers)\n",
        "        else:\n",
        "            res = requests.get(form_details[\"action\"], params=data, headers=headers)\n",
        "\n",
        "        if payload in res.text:\n",
        "            return True\n",
        "    return False\n",
        "\n",
        "def get_all_forms(url):\n",
        "    soup = BeautifulSoup(requests.get(url, headers=headers).content, \"html.parser\")\n",
        "    return soup.find_all(\"form\")\n",
        "\n",
        "def get_form_details(form):\n",
        "    details = {}\n",
        "    action = form.attrs.get(\"action\").lower()\n",
        "    method = form.attrs.get(\"method\", \"get\").lower()\n",
        "    inputs = []\n",
        "    for input_tag in form.find_all(\"input\"):\n",
        "        input_type = input_tag.attrs.get(\"type\", \"text\")\n",
        "        input_name = input_tag.attrs.get(\"name\")\n",
        "        inputs.append({\"type\": input_type, \"name\": input_name})\n",
        "    details[\"action\"] = action\n",
        "    details[\"method\"] = method\n",
        "    details[\"inputs\"] = inputs\n",
        "    return details\n",
        "\n",
        "def scan_url(url):\n",
        "    print(f\"\\nScanning {url}\")\n",
        "    # Check for SQL Injection vulnerability\n",
        "    print(\"[*] Checking SQL Injection...\")\n",
        "    if is_vulnerable_to_sql(url):\n",
        "        print(\"[-] SQL Injection vulnerability found!\")\n",
        "    else:\n",
        "        print(\"[+] No SQL Injection vulnerability found.\")\n",
        "\n",
        "    # Check for XSS in forms\n",
        "    forms = get_all_forms(url)\n",
        "    print(f\"[*] Checking XSS on {len(forms)} forms...\")\n",
        "    for form in forms:\n",
        "        if is_vulnerable_to_xss(form, url):\n",
        "            print(\"[-] XSS vulnerability found in form!\")\n",
        "            break\n",
        "    else:\n",
        "        print(\"[+] No XSS vulnerability found in forms.\")\n",
        "\n",
        "# Entry Point\n",
        "if __name__ == \"__main__\":\n",
        "    target_url = input(\"Enter URL to scan (e.g., http://testphp.vulnweb.com): \")\n",
        "    scan_url(target_url)\n"
      ],
      "metadata": {
        "colab": {
          "base_uri": "https://localhost:8080/"
        },
        "id": "hLddeQOHwUfa",
        "outputId": "cb6c1390-126e-4f89-e0c4-4f62d48893c5"
      },
      "execution_count": 2,
      "outputs": [
        {
          "output_type": "stream",
          "name": "stdout",
          "text": [
            "Enter URL to scan (e.g., http://testphp.vulnweb.com): https://www.google.com/maps\n",
            "\n",
            "Scanning https://www.google.com/maps\n",
            "[*] Checking SQL Injection...\n",
            "[+] No SQL Injection vulnerability found.\n",
            "[*] Checking XSS on 0 forms...\n",
            "[+] No XSS vulnerability found in forms.\n"
          ]
        }
      ]
    },
    {
      "cell_type": "code",
      "source": [],
      "metadata": {
        "id": "BzeEvhzQwkiT"
      },
      "execution_count": null,
      "outputs": []
    }
  ]
}